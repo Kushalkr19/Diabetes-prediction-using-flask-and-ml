{
 "cells": [
  {
   "cell_type": "code",
   "execution_count": 1,
   "metadata": {},
   "outputs": [
    {
     "name": "stdout",
     "output_type": "stream",
     "text": [
      " * Serving Flask app \"__main__\" (lazy loading)\n",
      " * Environment: production\n",
      "   WARNING: This is a development server. Do not use it in a production deployment.\n",
      "   Use a production WSGI server instead.\n",
      " * Debug mode: on\n"
     ]
    },
    {
     "name": "stderr",
     "output_type": "stream",
     "text": [
      " * Restarting with windowsapi reloader\n"
     ]
    },
    {
     "ename": "SystemExit",
     "evalue": "1",
     "output_type": "error",
     "traceback": [
      "An exception has occurred, use %tb to see the full traceback.\n",
      "\u001b[1;31mSystemExit\u001b[0m\u001b[1;31m:\u001b[0m 1\n"
     ]
    },
    {
     "name": "stderr",
     "output_type": "stream",
     "text": [
      "C:\\Users\\admin\\anaconda3\\lib\\site-packages\\IPython\\core\\interactiveshell.py:3426: UserWarning: To exit: use 'exit', 'quit', or Ctrl-D.\n",
      "  warn(\"To exit: use 'exit', 'quit', or Ctrl-D.\", stacklevel=1)\n"
     ]
    }
   ],
   "source": [
    "\n",
    "from flask import Flask,request,render_template\n",
    "import pickle\n",
    "import numpy as np\n",
    "import pandas as pd\n",
    "app = Flask(__name__)  ## setting up flask name\n",
    "\n",
    "\n",
    "model = pickle.load(open('Diabetes_prediction_Main.pkl', 'rb'))  ##loading model\n",
    "\n",
    "\n",
    "@app.route('/')             ## Defining main index route\n",
    "def home():\n",
    "    return render_template(\"index.html\")   ## showing index.html as homepage\n",
    "\n",
    "\n",
    "@app.route('/predict',methods=['POST'])  ## this route will be called when predict button is called\n",
    "def predict():\n",
    "    #int_features=[float(x) for x in request.form.values()]\n",
    "    text1 = request.form['1']      ## Fetching each input field value one by one\n",
    "    text2 = request.form['2'] \n",
    "    text3 = request.form['3']\n",
    "    text4 = request.form['4']\n",
    "    text5 = request.form['5']\n",
    "    text6 = request.form['6']\n",
    "    text7 = request.form['7']\n",
    "    text8 = request.form['8']\n",
    "    text9 = request.form['9']\n",
    "    text10 = request.form['10']\n",
    "    text11 = request.form['11']\n",
    "    text12 = request.form['12']\n",
    "    text13 = request.form['13']\n",
    "    text14 = request.form['14']\n",
    "    text15 = request.form['15']\n",
    "    text16 = request.form['16']\n",
    "    if len(text1)==3:\n",
    "        text1=1\n",
    "    else:\n",
    "        text1=0\n",
    "    if len(text2)==3:\n",
    "        text2=1\n",
    "    else:\n",
    "        text2=0\n",
    "    if len(text3)==3:\n",
    "        text3=1\n",
    "    else:\n",
    "        text3=0\n",
    "    if len(text4)==3:\n",
    "        text4=1\n",
    "    else:\n",
    "        text4=0\n",
    "    if len(text5)==3:\n",
    "        text5=1\n",
    "    else:\n",
    "        text5=0\n",
    "    if len(text6)==3:\n",
    "        text6=1\n",
    "    else:\n",
    "        text6=0\n",
    "    if len(text7)==3:\n",
    "        text7=1\n",
    "    else:\n",
    "        text7=0\n",
    "    if len(text8)==3:\n",
    "        text8=1\n",
    "    else:\n",
    "        text8=0\n",
    "    if len(text10)==3:\n",
    "        text10=1\n",
    "    else:\n",
    "        text10=0\n",
    "    if len(text11)==3:\n",
    "        text11=1\n",
    "    else:\n",
    "        text11=0\n",
    "    if len(text12)==3:\n",
    "        text12=1\n",
    "    else:\n",
    "        text12=0\n",
    "    if len(text13)==3:\n",
    "        text13=1\n",
    "    else:\n",
    "        text13=0\n",
    "    if len(text14)==3:\n",
    "        text14=1\n",
    "    else:\n",
    "        text14=0\n",
    "    if len(text15)==3:\n",
    "        text15=1\n",
    "    else:\n",
    "        text15=0\n",
    "    if len(text16)=='male':\n",
    "        text16=0\n",
    "    else:\n",
    "        text16=1\n",
    "    text9=int(text9)\n",
    "    row_df=pd.DataFrame([pd.Series([text1,text2,text3,text4,text5,text6,text7,text8,text9,text10,text11,text12,\n",
    "                                text13,text14,text15,text16])])\n",
    "    \n",
    "        \n",
    "    ### Creating a dataframe using all the values\n",
    "    print(row_df)\n",
    "    output=model.predict_proba(row_df)\n",
    "    #output=format([0][1], 2)    ## Formating output\n",
    "\n",
    "    if output[0][1]>0.5:\n",
    "        return render_template('index.html',pred='You have a chance of diabetes\\nand Probability of having Diabetes is {}'.format(output[0][1])) ## Returning the message for use on the same index.html page\n",
    "    else:\n",
    "        return render_template('index.html',pred='You are safe\\nand Probability of having Diabetes is {}'.format(output[0][1])) \n",
    "\n",
    "if __name__ == '__main__':\n",
    "    app.run(debug=True)          ## Running the app as debug==True"
   ]
  },
  {
   "cell_type": "code",
   "execution_count": null,
   "metadata": {},
   "outputs": [],
   "source": []
  }
 ],
 "metadata": {
  "kernelspec": {
   "display_name": "Python 3",
   "language": "python",
   "name": "python3"
  },
  "language_info": {
   "codemirror_mode": {
    "name": "ipython",
    "version": 3
   },
   "file_extension": ".py",
   "mimetype": "text/x-python",
   "name": "python",
   "nbconvert_exporter": "python",
   "pygments_lexer": "ipython3",
   "version": "3.8.5"
  }
 },
 "nbformat": 4,
 "nbformat_minor": 4
}
